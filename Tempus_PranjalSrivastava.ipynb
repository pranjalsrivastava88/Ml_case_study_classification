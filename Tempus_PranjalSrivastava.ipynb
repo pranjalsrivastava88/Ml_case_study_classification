{
  "nbformat": 4,
  "nbformat_minor": 0,
  "metadata": {
    "colab": {
      "name": "Tempus_PranjalSrivastava.ipynb",
      "provenance": [],
      "collapsed_sections": []
    },
    "kernelspec": {
      "name": "python3",
      "display_name": "Python 3"
    },
    "language_info": {
      "name": "python"
    }
  },
  "cells": [
    {
      "cell_type": "markdown",
      "source": [
        "#The assignment is to investigate and analyze the accompanying data set, producing a model that can be used to predict the “target”.#"
      ],
      "metadata": {
        "id": "GCKTjZpfiLNo"
      }
    },
    {
      "cell_type": "markdown",
      "source": [
        "Since Tempus deals with the data to see if it is clinically informative, I have assumed the data to be medical data and target to be synonymous to disease. Disease is there if target is 1, else 0"
      ],
      "metadata": {
        "id": "0q2Gninljk7A"
      }
    },
    {
      "cell_type": "code",
      "execution_count": 443,
      "metadata": {
        "id": "usoYdyZ92EcW"
      },
      "outputs": [],
      "source": [
        "#Importing all the required packages\n",
        "\n",
        "import json\n",
        "import pandas as pd\n",
        "import missingno as mi\n",
        "from sklearn.linear_model import LassoCV\n",
        "from sklearn.model_selection import RepeatedKFold\n",
        "from numpy import arange\n",
        "from sklearn.feature_selection import SelectFromModel\n",
        "from sklearn.linear_model import Lasso, LogisticRegression\n",
        "import numpy as np\n",
        "from sklearn.ensemble import RandomForestClassifier\n",
        "from sklearn.metrics import accuracy_score\n",
        "from sklearn.model_selection import train_test_split\n",
        "from sklearn.preprocessing import MinMaxScaler\n",
        "from sklearn.metrics import plot_confusion_matrix\n",
        "from sklearn.svm import SVC\n",
        "from sklearn.metrics import classification_report\n",
        "from sklearn.metrics import roc_auc_score\n",
        "from sklearn.metrics import roc_curve\n",
        "import matplotlib.pyplot as plt "
      ]
    },
    {
      "cell_type": "code",
      "source": [
        "#Reading the json file and then converting it into a dataframe\n",
        "\n",
        "with open('patient_profiles.json', 'r') as f:\n",
        "    data = json.load(f)\n",
        "\n",
        "df = pd.DataFrame(data)"
      ],
      "metadata": {
        "id": "I90mFlIv2uFM"
      },
      "execution_count": 374,
      "outputs": []
    },
    {
      "cell_type": "markdown",
      "source": [
        "Parser to parse data for each patient from the json file into a dataframe"
      ],
      "metadata": {
        "id": "IgK4gtPMjZh_"
      }
    },
    {
      "cell_type": "code",
      "source": [
        "rows_list = []\n",
        "for x in df['patient_profiles']:\n",
        "  for p in x:\n",
        "    dict1 = {}\n",
        "    #print(p)\n",
        "    for k,v in p.items():\n",
        "      if(type(v) == dict):\n",
        "        for k1, v1 in v.items():\n",
        "          dict1[k + '.'+ k1] = v1\n",
        "      else:\n",
        "        dict1[k]= v\n",
        "    rows_list.append(dict1)\n",
        "patients_df = pd.DataFrame(rows_list) \n",
        "patients_df.head(5)\n",
        "patients_df.shape"
      ],
      "metadata": {
        "colab": {
          "base_uri": "https://localhost:8080/"
        },
        "id": "5zmJuTOrQ_8J",
        "outputId": "dc5ae136-461b-4253-beb6-00d256c87745"
      },
      "execution_count": 375,
      "outputs": [
        {
          "output_type": "execute_result",
          "data": {
            "text/plain": [
              "(2351, 13)"
            ]
          },
          "metadata": {},
          "execution_count": 375
        }
      ]
    },
    {
      "cell_type": "code",
      "source": [
        "patients_df.head(5)"
      ],
      "metadata": {
        "colab": {
          "base_uri": "https://localhost:8080/",
          "height": 270
        },
        "id": "8bztiMAU5frK",
        "outputId": "f55a089d-e7f9-4dcd-9066-5de251377535"
      },
      "execution_count": 376,
      "outputs": [
        {
          "output_type": "execute_result",
          "data": {
            "text/plain": [
              "  patient_id demographics.gender  demographics.age status.disease_sub_type  \\\n",
              "0  102bb8fae              Female              68.0                       A   \n",
              "1  10e32947f              Female              66.0                       A   \n",
              "2  11156e14a                Male              61.0                       A   \n",
              "3  113d8066d                Male              62.0                       B   \n",
              "4   113ec3f1                Male              59.0                       A   \n",
              "\n",
              "   status.comorbidity_index  status.cohort_qualifier status.smoking_status  \\\n",
              "0                       0.0                     True                 never   \n",
              "1                       NaN                     True                former   \n",
              "2                       1.0                     True                 never   \n",
              "3                       NaN                     True               current   \n",
              "4                       NaN                     True                former   \n",
              "\n",
              "   status.months_since_diagnosis demographics.race  \\\n",
              "0                            1.0               NaN   \n",
              "1                            0.0             White   \n",
              "2                           16.0             White   \n",
              "3                            0.0               NaN   \n",
              "4                            9.0               NaN   \n",
              "\n",
              "   status.days_since_diagnosis status.alcohol_usage  \\\n",
              "0                          NaN                  NaN   \n",
              "1                          NaN                  NaN   \n",
              "2                          NaN                  NaN   \n",
              "3                          NaN                  NaN   \n",
              "4                          NaN                  NaN   \n",
              "\n",
              "   status.exercise_frequency status.bmi_level  \n",
              "0                        NaN              NaN  \n",
              "1                        NaN              NaN  \n",
              "2                        NaN              NaN  \n",
              "3                        NaN              NaN  \n",
              "4                        NaN              NaN  "
            ],
            "text/html": [
              "\n",
              "  <div id=\"df-bb27aad3-9e70-40c7-8d68-c28063e46bf9\">\n",
              "    <div class=\"colab-df-container\">\n",
              "      <div>\n",
              "<style scoped>\n",
              "    .dataframe tbody tr th:only-of-type {\n",
              "        vertical-align: middle;\n",
              "    }\n",
              "\n",
              "    .dataframe tbody tr th {\n",
              "        vertical-align: top;\n",
              "    }\n",
              "\n",
              "    .dataframe thead th {\n",
              "        text-align: right;\n",
              "    }\n",
              "</style>\n",
              "<table border=\"1\" class=\"dataframe\">\n",
              "  <thead>\n",
              "    <tr style=\"text-align: right;\">\n",
              "      <th></th>\n",
              "      <th>patient_id</th>\n",
              "      <th>demographics.gender</th>\n",
              "      <th>demographics.age</th>\n",
              "      <th>status.disease_sub_type</th>\n",
              "      <th>status.comorbidity_index</th>\n",
              "      <th>status.cohort_qualifier</th>\n",
              "      <th>status.smoking_status</th>\n",
              "      <th>status.months_since_diagnosis</th>\n",
              "      <th>demographics.race</th>\n",
              "      <th>status.days_since_diagnosis</th>\n",
              "      <th>status.alcohol_usage</th>\n",
              "      <th>status.exercise_frequency</th>\n",
              "      <th>status.bmi_level</th>\n",
              "    </tr>\n",
              "  </thead>\n",
              "  <tbody>\n",
              "    <tr>\n",
              "      <th>0</th>\n",
              "      <td>102bb8fae</td>\n",
              "      <td>Female</td>\n",
              "      <td>68.0</td>\n",
              "      <td>A</td>\n",
              "      <td>0.0</td>\n",
              "      <td>True</td>\n",
              "      <td>never</td>\n",
              "      <td>1.0</td>\n",
              "      <td>NaN</td>\n",
              "      <td>NaN</td>\n",
              "      <td>NaN</td>\n",
              "      <td>NaN</td>\n",
              "      <td>NaN</td>\n",
              "    </tr>\n",
              "    <tr>\n",
              "      <th>1</th>\n",
              "      <td>10e32947f</td>\n",
              "      <td>Female</td>\n",
              "      <td>66.0</td>\n",
              "      <td>A</td>\n",
              "      <td>NaN</td>\n",
              "      <td>True</td>\n",
              "      <td>former</td>\n",
              "      <td>0.0</td>\n",
              "      <td>White</td>\n",
              "      <td>NaN</td>\n",
              "      <td>NaN</td>\n",
              "      <td>NaN</td>\n",
              "      <td>NaN</td>\n",
              "    </tr>\n",
              "    <tr>\n",
              "      <th>2</th>\n",
              "      <td>11156e14a</td>\n",
              "      <td>Male</td>\n",
              "      <td>61.0</td>\n",
              "      <td>A</td>\n",
              "      <td>1.0</td>\n",
              "      <td>True</td>\n",
              "      <td>never</td>\n",
              "      <td>16.0</td>\n",
              "      <td>White</td>\n",
              "      <td>NaN</td>\n",
              "      <td>NaN</td>\n",
              "      <td>NaN</td>\n",
              "      <td>NaN</td>\n",
              "    </tr>\n",
              "    <tr>\n",
              "      <th>3</th>\n",
              "      <td>113d8066d</td>\n",
              "      <td>Male</td>\n",
              "      <td>62.0</td>\n",
              "      <td>B</td>\n",
              "      <td>NaN</td>\n",
              "      <td>True</td>\n",
              "      <td>current</td>\n",
              "      <td>0.0</td>\n",
              "      <td>NaN</td>\n",
              "      <td>NaN</td>\n",
              "      <td>NaN</td>\n",
              "      <td>NaN</td>\n",
              "      <td>NaN</td>\n",
              "    </tr>\n",
              "    <tr>\n",
              "      <th>4</th>\n",
              "      <td>113ec3f1</td>\n",
              "      <td>Male</td>\n",
              "      <td>59.0</td>\n",
              "      <td>A</td>\n",
              "      <td>NaN</td>\n",
              "      <td>True</td>\n",
              "      <td>former</td>\n",
              "      <td>9.0</td>\n",
              "      <td>NaN</td>\n",
              "      <td>NaN</td>\n",
              "      <td>NaN</td>\n",
              "      <td>NaN</td>\n",
              "      <td>NaN</td>\n",
              "    </tr>\n",
              "  </tbody>\n",
              "</table>\n",
              "</div>\n",
              "      <button class=\"colab-df-convert\" onclick=\"convertToInteractive('df-bb27aad3-9e70-40c7-8d68-c28063e46bf9')\"\n",
              "              title=\"Convert this dataframe to an interactive table.\"\n",
              "              style=\"display:none;\">\n",
              "        \n",
              "  <svg xmlns=\"http://www.w3.org/2000/svg\" height=\"24px\"viewBox=\"0 0 24 24\"\n",
              "       width=\"24px\">\n",
              "    <path d=\"M0 0h24v24H0V0z\" fill=\"none\"/>\n",
              "    <path d=\"M18.56 5.44l.94 2.06.94-2.06 2.06-.94-2.06-.94-.94-2.06-.94 2.06-2.06.94zm-11 1L8.5 8.5l.94-2.06 2.06-.94-2.06-.94L8.5 2.5l-.94 2.06-2.06.94zm10 10l.94 2.06.94-2.06 2.06-.94-2.06-.94-.94-2.06-.94 2.06-2.06.94z\"/><path d=\"M17.41 7.96l-1.37-1.37c-.4-.4-.92-.59-1.43-.59-.52 0-1.04.2-1.43.59L10.3 9.45l-7.72 7.72c-.78.78-.78 2.05 0 2.83L4 21.41c.39.39.9.59 1.41.59.51 0 1.02-.2 1.41-.59l7.78-7.78 2.81-2.81c.8-.78.8-2.07 0-2.86zM5.41 20L4 18.59l7.72-7.72 1.47 1.35L5.41 20z\"/>\n",
              "  </svg>\n",
              "      </button>\n",
              "      \n",
              "  <style>\n",
              "    .colab-df-container {\n",
              "      display:flex;\n",
              "      flex-wrap:wrap;\n",
              "      gap: 12px;\n",
              "    }\n",
              "\n",
              "    .colab-df-convert {\n",
              "      background-color: #E8F0FE;\n",
              "      border: none;\n",
              "      border-radius: 50%;\n",
              "      cursor: pointer;\n",
              "      display: none;\n",
              "      fill: #1967D2;\n",
              "      height: 32px;\n",
              "      padding: 0 0 0 0;\n",
              "      width: 32px;\n",
              "    }\n",
              "\n",
              "    .colab-df-convert:hover {\n",
              "      background-color: #E2EBFA;\n",
              "      box-shadow: 0px 1px 2px rgba(60, 64, 67, 0.3), 0px 1px 3px 1px rgba(60, 64, 67, 0.15);\n",
              "      fill: #174EA6;\n",
              "    }\n",
              "\n",
              "    [theme=dark] .colab-df-convert {\n",
              "      background-color: #3B4455;\n",
              "      fill: #D2E3FC;\n",
              "    }\n",
              "\n",
              "    [theme=dark] .colab-df-convert:hover {\n",
              "      background-color: #434B5C;\n",
              "      box-shadow: 0px 1px 3px 1px rgba(0, 0, 0, 0.15);\n",
              "      filter: drop-shadow(0px 1px 2px rgba(0, 0, 0, 0.3));\n",
              "      fill: #FFFFFF;\n",
              "    }\n",
              "  </style>\n",
              "\n",
              "      <script>\n",
              "        const buttonEl =\n",
              "          document.querySelector('#df-bb27aad3-9e70-40c7-8d68-c28063e46bf9 button.colab-df-convert');\n",
              "        buttonEl.style.display =\n",
              "          google.colab.kernel.accessAllowed ? 'block' : 'none';\n",
              "\n",
              "        async function convertToInteractive(key) {\n",
              "          const element = document.querySelector('#df-bb27aad3-9e70-40c7-8d68-c28063e46bf9');\n",
              "          const dataTable =\n",
              "            await google.colab.kernel.invokeFunction('convertToInteractive',\n",
              "                                                     [key], {});\n",
              "          if (!dataTable) return;\n",
              "\n",
              "          const docLinkHtml = 'Like what you see? Visit the ' +\n",
              "            '<a target=\"_blank\" href=https://colab.research.google.com/notebooks/data_table.ipynb>data table notebook</a>'\n",
              "            + ' to learn more about interactive tables.';\n",
              "          element.innerHTML = '';\n",
              "          dataTable['output_type'] = 'display_data';\n",
              "          await google.colab.output.renderOutput(dataTable, element);\n",
              "          const docLink = document.createElement('div');\n",
              "          docLink.innerHTML = docLinkHtml;\n",
              "          element.appendChild(docLink);\n",
              "        }\n",
              "      </script>\n",
              "    </div>\n",
              "  </div>\n",
              "  "
            ]
          },
          "metadata": {},
          "execution_count": 376
        }
      ]
    },
    {
      "cell_type": "markdown",
      "source": [
        "The above dataframe contains data for all the patients across all seven cohorts or medical institutions. I have created the column names with 'keyname'.'nested_keyname'. We have total 2351 rows and 13 columns\n",
        "\n"
      ],
      "metadata": {
        "id": "MZ4hKa5IZxPf"
      }
    },
    {
      "cell_type": "code",
      "source": [
        "#Reading the biomarkers and targets file\n",
        "\n",
        "biomarkers = pd.read_csv(\"biomarkers.csv\")\n",
        "targets = pd.read_csv(\"targets.csv\")"
      ],
      "metadata": {
        "id": "ibwUrCixJL9F"
      },
      "execution_count": 377,
      "outputs": []
    },
    {
      "cell_type": "code",
      "source": [
        "biomarkers.head(5)\n",
        "biomarkers.shape"
      ],
      "metadata": {
        "colab": {
          "base_uri": "https://localhost:8080/"
        },
        "id": "B9f-cbu9ZW_L",
        "outputId": "671c3cff-110c-4438-f312-4c194d0b9b85"
      },
      "execution_count": 378,
      "outputs": [
        {
          "output_type": "execute_result",
          "data": {
            "text/plain": [
              "(1960, 15158)"
            ]
          },
          "metadata": {},
          "execution_count": 378
        }
      ]
    },
    {
      "cell_type": "code",
      "source": [
        "targets.head(5)\n",
        "len(biomarkers['biomarker_id'].unique())\n",
        "targets.shape"
      ],
      "metadata": {
        "colab": {
          "base_uri": "https://localhost:8080/"
        },
        "id": "oR6jrEJEZZy9",
        "outputId": "87690635-db04-43fd-c85b-b2cde693d5ac"
      },
      "execution_count": 379,
      "outputs": [
        {
          "output_type": "execute_result",
          "data": {
            "text/plain": [
              "(1734, 3)"
            ]
          },
          "metadata": {},
          "execution_count": 379
        }
      ]
    },
    {
      "cell_type": "markdown",
      "source": [
        "Now, we'll merge the data from biomarkers and targets file on the biomarker_id to get one file to get target labels and all biomarkers columns in one dataframe"
      ],
      "metadata": {
        "id": "bBeradd3aRR0"
      }
    },
    {
      "cell_type": "code",
      "source": [
        "merged_data = biomarkers.merge(targets, on = 'biomarker_id', how = 'inner')\n",
        "merged_data.shape"
      ],
      "metadata": {
        "colab": {
          "base_uri": "https://localhost:8080/"
        },
        "id": "IBnF7hbZJXQL",
        "outputId": "ec1dfd0c-368a-4225-8e3f-7c6bca1c5922"
      },
      "execution_count": 380,
      "outputs": [
        {
          "output_type": "execute_result",
          "data": {
            "text/plain": [
              "(1734, 15160)"
            ]
          },
          "metadata": {},
          "execution_count": 380
        }
      ]
    },
    {
      "cell_type": "markdown",
      "source": [
        "Now, I have used the above merged file and merged it with patients data file on patients id to get one dataframe with all biomakers columns, patient's data columns and of course the target label"
      ],
      "metadata": {
        "id": "jnnntCeba8dz"
      }
    },
    {
      "cell_type": "code",
      "source": [
        "final_data = merged_data.merge(patients_df, on = 'patient_id', how = 'inner')\n",
        "final_data.head(5)"
      ],
      "metadata": {
        "colab": {
          "base_uri": "https://localhost:8080/",
          "height": 334
        },
        "id": "x274I5y3kk_J",
        "outputId": "bd7c6fa6-9216-4c0a-9878-fba49b9b78bf"
      },
      "execution_count": 381,
      "outputs": [
        {
          "output_type": "execute_result",
          "data": {
            "text/plain": [
              "  biomarker_id  BM00000  BM00001  BM00002  BM00003  BM00004  BM00005  BM00006  \\\n",
              "0    100505de2        1        1        1        0        0        0        1   \n",
              "1    10075c5c2        1        1        1        0        0        0        1   \n",
              "2    10105cb22        1        1        1        0        0        0        1   \n",
              "3    101219d6e        1        0        1        0        0        0        0   \n",
              "4    10135ad45        1        0        1        0        1        0        1   \n",
              "\n",
              "   BM00007  BM00008  ...  status.disease_sub_type  status.comorbidity_index  \\\n",
              "0        0        0  ...                        C                       NaN   \n",
              "1        0        1  ...                        A                       NaN   \n",
              "2        0        1  ...                        A                       1.0   \n",
              "3        0        1  ...                        A                       NaN   \n",
              "4        0        1  ...                        C                       NaN   \n",
              "\n",
              "   status.cohort_qualifier  status.smoking_status  \\\n",
              "0                     True                    NaN   \n",
              "1                     True                  never   \n",
              "2                     True                unknown   \n",
              "3                     True                current   \n",
              "4                     True                  never   \n",
              "\n",
              "   status.months_since_diagnosis          demographics.race  \\\n",
              "0                            NaN                        NaN   \n",
              "1                           79.0                        NaN   \n",
              "2                            0.0                      White   \n",
              "3                            0.0  Black or African American   \n",
              "4                            0.0  Black or African American   \n",
              "\n",
              "   status.days_since_diagnosis  status.alcohol_usage  \\\n",
              "0                        148.0                   NaN   \n",
              "1                          NaN                   NaN   \n",
              "2                          NaN                   NaN   \n",
              "3                          NaN                   NaN   \n",
              "4                          NaN                   NaN   \n",
              "\n",
              "   status.exercise_frequency  status.bmi_level  \n",
              "0                        NaN               NaN  \n",
              "1                        NaN               NaN  \n",
              "2                        NaN               NaN  \n",
              "3                        NaN               NaN  \n",
              "4                        NaN               NaN  \n",
              "\n",
              "[5 rows x 15172 columns]"
            ],
            "text/html": [
              "\n",
              "  <div id=\"df-827e994f-82d0-4d6c-9475-5caa5025bd59\">\n",
              "    <div class=\"colab-df-container\">\n",
              "      <div>\n",
              "<style scoped>\n",
              "    .dataframe tbody tr th:only-of-type {\n",
              "        vertical-align: middle;\n",
              "    }\n",
              "\n",
              "    .dataframe tbody tr th {\n",
              "        vertical-align: top;\n",
              "    }\n",
              "\n",
              "    .dataframe thead th {\n",
              "        text-align: right;\n",
              "    }\n",
              "</style>\n",
              "<table border=\"1\" class=\"dataframe\">\n",
              "  <thead>\n",
              "    <tr style=\"text-align: right;\">\n",
              "      <th></th>\n",
              "      <th>biomarker_id</th>\n",
              "      <th>BM00000</th>\n",
              "      <th>BM00001</th>\n",
              "      <th>BM00002</th>\n",
              "      <th>BM00003</th>\n",
              "      <th>BM00004</th>\n",
              "      <th>BM00005</th>\n",
              "      <th>BM00006</th>\n",
              "      <th>BM00007</th>\n",
              "      <th>BM00008</th>\n",
              "      <th>...</th>\n",
              "      <th>status.disease_sub_type</th>\n",
              "      <th>status.comorbidity_index</th>\n",
              "      <th>status.cohort_qualifier</th>\n",
              "      <th>status.smoking_status</th>\n",
              "      <th>status.months_since_diagnosis</th>\n",
              "      <th>demographics.race</th>\n",
              "      <th>status.days_since_diagnosis</th>\n",
              "      <th>status.alcohol_usage</th>\n",
              "      <th>status.exercise_frequency</th>\n",
              "      <th>status.bmi_level</th>\n",
              "    </tr>\n",
              "  </thead>\n",
              "  <tbody>\n",
              "    <tr>\n",
              "      <th>0</th>\n",
              "      <td>100505de2</td>\n",
              "      <td>1</td>\n",
              "      <td>1</td>\n",
              "      <td>1</td>\n",
              "      <td>0</td>\n",
              "      <td>0</td>\n",
              "      <td>0</td>\n",
              "      <td>1</td>\n",
              "      <td>0</td>\n",
              "      <td>0</td>\n",
              "      <td>...</td>\n",
              "      <td>C</td>\n",
              "      <td>NaN</td>\n",
              "      <td>True</td>\n",
              "      <td>NaN</td>\n",
              "      <td>NaN</td>\n",
              "      <td>NaN</td>\n",
              "      <td>148.0</td>\n",
              "      <td>NaN</td>\n",
              "      <td>NaN</td>\n",
              "      <td>NaN</td>\n",
              "    </tr>\n",
              "    <tr>\n",
              "      <th>1</th>\n",
              "      <td>10075c5c2</td>\n",
              "      <td>1</td>\n",
              "      <td>1</td>\n",
              "      <td>1</td>\n",
              "      <td>0</td>\n",
              "      <td>0</td>\n",
              "      <td>0</td>\n",
              "      <td>1</td>\n",
              "      <td>0</td>\n",
              "      <td>1</td>\n",
              "      <td>...</td>\n",
              "      <td>A</td>\n",
              "      <td>NaN</td>\n",
              "      <td>True</td>\n",
              "      <td>never</td>\n",
              "      <td>79.0</td>\n",
              "      <td>NaN</td>\n",
              "      <td>NaN</td>\n",
              "      <td>NaN</td>\n",
              "      <td>NaN</td>\n",
              "      <td>NaN</td>\n",
              "    </tr>\n",
              "    <tr>\n",
              "      <th>2</th>\n",
              "      <td>10105cb22</td>\n",
              "      <td>1</td>\n",
              "      <td>1</td>\n",
              "      <td>1</td>\n",
              "      <td>0</td>\n",
              "      <td>0</td>\n",
              "      <td>0</td>\n",
              "      <td>1</td>\n",
              "      <td>0</td>\n",
              "      <td>1</td>\n",
              "      <td>...</td>\n",
              "      <td>A</td>\n",
              "      <td>1.0</td>\n",
              "      <td>True</td>\n",
              "      <td>unknown</td>\n",
              "      <td>0.0</td>\n",
              "      <td>White</td>\n",
              "      <td>NaN</td>\n",
              "      <td>NaN</td>\n",
              "      <td>NaN</td>\n",
              "      <td>NaN</td>\n",
              "    </tr>\n",
              "    <tr>\n",
              "      <th>3</th>\n",
              "      <td>101219d6e</td>\n",
              "      <td>1</td>\n",
              "      <td>0</td>\n",
              "      <td>1</td>\n",
              "      <td>0</td>\n",
              "      <td>0</td>\n",
              "      <td>0</td>\n",
              "      <td>0</td>\n",
              "      <td>0</td>\n",
              "      <td>1</td>\n",
              "      <td>...</td>\n",
              "      <td>A</td>\n",
              "      <td>NaN</td>\n",
              "      <td>True</td>\n",
              "      <td>current</td>\n",
              "      <td>0.0</td>\n",
              "      <td>Black or African American</td>\n",
              "      <td>NaN</td>\n",
              "      <td>NaN</td>\n",
              "      <td>NaN</td>\n",
              "      <td>NaN</td>\n",
              "    </tr>\n",
              "    <tr>\n",
              "      <th>4</th>\n",
              "      <td>10135ad45</td>\n",
              "      <td>1</td>\n",
              "      <td>0</td>\n",
              "      <td>1</td>\n",
              "      <td>0</td>\n",
              "      <td>1</td>\n",
              "      <td>0</td>\n",
              "      <td>1</td>\n",
              "      <td>0</td>\n",
              "      <td>1</td>\n",
              "      <td>...</td>\n",
              "      <td>C</td>\n",
              "      <td>NaN</td>\n",
              "      <td>True</td>\n",
              "      <td>never</td>\n",
              "      <td>0.0</td>\n",
              "      <td>Black or African American</td>\n",
              "      <td>NaN</td>\n",
              "      <td>NaN</td>\n",
              "      <td>NaN</td>\n",
              "      <td>NaN</td>\n",
              "    </tr>\n",
              "  </tbody>\n",
              "</table>\n",
              "<p>5 rows × 15172 columns</p>\n",
              "</div>\n",
              "      <button class=\"colab-df-convert\" onclick=\"convertToInteractive('df-827e994f-82d0-4d6c-9475-5caa5025bd59')\"\n",
              "              title=\"Convert this dataframe to an interactive table.\"\n",
              "              style=\"display:none;\">\n",
              "        \n",
              "  <svg xmlns=\"http://www.w3.org/2000/svg\" height=\"24px\"viewBox=\"0 0 24 24\"\n",
              "       width=\"24px\">\n",
              "    <path d=\"M0 0h24v24H0V0z\" fill=\"none\"/>\n",
              "    <path d=\"M18.56 5.44l.94 2.06.94-2.06 2.06-.94-2.06-.94-.94-2.06-.94 2.06-2.06.94zm-11 1L8.5 8.5l.94-2.06 2.06-.94-2.06-.94L8.5 2.5l-.94 2.06-2.06.94zm10 10l.94 2.06.94-2.06 2.06-.94-2.06-.94-.94-2.06-.94 2.06-2.06.94z\"/><path d=\"M17.41 7.96l-1.37-1.37c-.4-.4-.92-.59-1.43-.59-.52 0-1.04.2-1.43.59L10.3 9.45l-7.72 7.72c-.78.78-.78 2.05 0 2.83L4 21.41c.39.39.9.59 1.41.59.51 0 1.02-.2 1.41-.59l7.78-7.78 2.81-2.81c.8-.78.8-2.07 0-2.86zM5.41 20L4 18.59l7.72-7.72 1.47 1.35L5.41 20z\"/>\n",
              "  </svg>\n",
              "      </button>\n",
              "      \n",
              "  <style>\n",
              "    .colab-df-container {\n",
              "      display:flex;\n",
              "      flex-wrap:wrap;\n",
              "      gap: 12px;\n",
              "    }\n",
              "\n",
              "    .colab-df-convert {\n",
              "      background-color: #E8F0FE;\n",
              "      border: none;\n",
              "      border-radius: 50%;\n",
              "      cursor: pointer;\n",
              "      display: none;\n",
              "      fill: #1967D2;\n",
              "      height: 32px;\n",
              "      padding: 0 0 0 0;\n",
              "      width: 32px;\n",
              "    }\n",
              "\n",
              "    .colab-df-convert:hover {\n",
              "      background-color: #E2EBFA;\n",
              "      box-shadow: 0px 1px 2px rgba(60, 64, 67, 0.3), 0px 1px 3px 1px rgba(60, 64, 67, 0.15);\n",
              "      fill: #174EA6;\n",
              "    }\n",
              "\n",
              "    [theme=dark] .colab-df-convert {\n",
              "      background-color: #3B4455;\n",
              "      fill: #D2E3FC;\n",
              "    }\n",
              "\n",
              "    [theme=dark] .colab-df-convert:hover {\n",
              "      background-color: #434B5C;\n",
              "      box-shadow: 0px 1px 3px 1px rgba(0, 0, 0, 0.15);\n",
              "      filter: drop-shadow(0px 1px 2px rgba(0, 0, 0, 0.3));\n",
              "      fill: #FFFFFF;\n",
              "    }\n",
              "  </style>\n",
              "\n",
              "      <script>\n",
              "        const buttonEl =\n",
              "          document.querySelector('#df-827e994f-82d0-4d6c-9475-5caa5025bd59 button.colab-df-convert');\n",
              "        buttonEl.style.display =\n",
              "          google.colab.kernel.accessAllowed ? 'block' : 'none';\n",
              "\n",
              "        async function convertToInteractive(key) {\n",
              "          const element = document.querySelector('#df-827e994f-82d0-4d6c-9475-5caa5025bd59');\n",
              "          const dataTable =\n",
              "            await google.colab.kernel.invokeFunction('convertToInteractive',\n",
              "                                                     [key], {});\n",
              "          if (!dataTable) return;\n",
              "\n",
              "          const docLinkHtml = 'Like what you see? Visit the ' +\n",
              "            '<a target=\"_blank\" href=https://colab.research.google.com/notebooks/data_table.ipynb>data table notebook</a>'\n",
              "            + ' to learn more about interactive tables.';\n",
              "          element.innerHTML = '';\n",
              "          dataTable['output_type'] = 'display_data';\n",
              "          await google.colab.output.renderOutput(dataTable, element);\n",
              "          const docLink = document.createElement('div');\n",
              "          docLink.innerHTML = docLinkHtml;\n",
              "          element.appendChild(docLink);\n",
              "        }\n",
              "      </script>\n",
              "    </div>\n",
              "  </div>\n",
              "  "
            ]
          },
          "metadata": {},
          "execution_count": 381
        }
      ]
    },
    {
      "cell_type": "markdown",
      "source": [
        "#EDA#"
      ],
      "metadata": {
        "id": "x5TrpLvqiecv"
      }
    },
    {
      "cell_type": "markdown",
      "source": [
        "Since I don't have any contextual knowledge about biomarkers, I won't do any EDA specifically in the biomarkers column"
      ],
      "metadata": {
        "id": "mEU2qJ2KkC45"
      }
    },
    {
      "cell_type": "code",
      "source": [
        "final_data.describe()"
      ],
      "metadata": {
        "colab": {
          "base_uri": "https://localhost:8080/",
          "height": 393
        },
        "id": "82sSI9k_imlI",
        "outputId": "1f1d5a08-8d59-4cc3-a8de-ad85a1abdf6c"
      },
      "execution_count": 382,
      "outputs": [
        {
          "output_type": "execute_result",
          "data": {
            "text/plain": [
              "           BM00000      BM00001      BM00002      BM00003      BM00004  \\\n",
              "count  1734.000000  1734.000000  1734.000000  1734.000000  1734.000000   \n",
              "mean      0.783160     0.883506     0.725490     0.189158     0.434256   \n",
              "std       0.412211     0.320909     0.446396     0.391747     0.495802   \n",
              "min       0.000000     0.000000     0.000000     0.000000     0.000000   \n",
              "25%       1.000000     1.000000     0.000000     0.000000     0.000000   \n",
              "50%       1.000000     1.000000     1.000000     0.000000     0.000000   \n",
              "75%       1.000000     1.000000     1.000000     0.000000     1.000000   \n",
              "max       1.000000     1.000000     1.000000     1.000000     1.000000   \n",
              "\n",
              "           BM00005      BM00006      BM00007      BM00008      BM00009  ...  \\\n",
              "count  1734.000000  1734.000000  1734.000000  1734.000000  1734.000000  ...   \n",
              "mean      0.064014     0.538062     0.096309     0.931373     0.592272  ...   \n",
              "std       0.244848     0.498693     0.295100     0.252892     0.491554  ...   \n",
              "min       0.000000     0.000000     0.000000     0.000000     0.000000  ...   \n",
              "25%       0.000000     0.000000     0.000000     1.000000     0.000000  ...   \n",
              "50%       0.000000     1.000000     0.000000     1.000000     1.000000  ...   \n",
              "75%       0.000000     1.000000     0.000000     1.000000     1.000000  ...   \n",
              "max       1.000000     1.000000     1.000000     1.000000     1.000000  ...   \n",
              "\n",
              "       BM15153      BM15154      BM15155      BM15156  target_label  \\\n",
              "count   1734.0  1038.000000  1734.000000  1734.000000   1734.000000   \n",
              "mean       1.0     0.982659     0.914648     0.969435      0.219723   \n",
              "std        0.0     0.130602     0.279485     0.172186      0.414179   \n",
              "min        1.0     0.000000     0.000000     0.000000      0.000000   \n",
              "25%        1.0     1.000000     1.000000     1.000000      0.000000   \n",
              "50%        1.0     1.000000     1.000000     1.000000      0.000000   \n",
              "75%        1.0     1.000000     1.000000     1.000000      0.000000   \n",
              "max        1.0     1.000000     1.000000     1.000000      1.000000   \n",
              "\n",
              "       demographics.age  status.comorbidity_index  \\\n",
              "count       1611.000000                353.000000   \n",
              "mean          59.790813                  0.716714   \n",
              "std            9.516331                  0.786374   \n",
              "min           25.000000                  0.000000   \n",
              "25%           54.000000                  0.000000   \n",
              "50%           61.000000                  1.000000   \n",
              "75%           67.000000                  1.000000   \n",
              "max           83.000000                  2.000000   \n",
              "\n",
              "       status.months_since_diagnosis  status.days_since_diagnosis  \\\n",
              "count                    1611.000000                   123.000000   \n",
              "mean                        6.800124                   253.528455   \n",
              "std                        10.842854                   388.136940   \n",
              "min                         0.000000                     0.000000   \n",
              "25%                         0.000000                     0.000000   \n",
              "50%                         2.000000                   108.000000   \n",
              "75%                        10.000000                   383.000000   \n",
              "max                        93.000000                  3084.000000   \n",
              "\n",
              "       status.exercise_frequency  \n",
              "count                 330.000000  \n",
              "mean                    0.275758  \n",
              "std                     0.561982  \n",
              "min                     0.000000  \n",
              "25%                     0.000000  \n",
              "50%                     0.000000  \n",
              "75%                     0.000000  \n",
              "max                     2.000000  \n",
              "\n",
              "[8 rows x 15163 columns]"
            ],
            "text/html": [
              "\n",
              "  <div id=\"df-840e8ecb-2c4c-42d3-8df9-060247686bad\">\n",
              "    <div class=\"colab-df-container\">\n",
              "      <div>\n",
              "<style scoped>\n",
              "    .dataframe tbody tr th:only-of-type {\n",
              "        vertical-align: middle;\n",
              "    }\n",
              "\n",
              "    .dataframe tbody tr th {\n",
              "        vertical-align: top;\n",
              "    }\n",
              "\n",
              "    .dataframe thead th {\n",
              "        text-align: right;\n",
              "    }\n",
              "</style>\n",
              "<table border=\"1\" class=\"dataframe\">\n",
              "  <thead>\n",
              "    <tr style=\"text-align: right;\">\n",
              "      <th></th>\n",
              "      <th>BM00000</th>\n",
              "      <th>BM00001</th>\n",
              "      <th>BM00002</th>\n",
              "      <th>BM00003</th>\n",
              "      <th>BM00004</th>\n",
              "      <th>BM00005</th>\n",
              "      <th>BM00006</th>\n",
              "      <th>BM00007</th>\n",
              "      <th>BM00008</th>\n",
              "      <th>BM00009</th>\n",
              "      <th>...</th>\n",
              "      <th>BM15153</th>\n",
              "      <th>BM15154</th>\n",
              "      <th>BM15155</th>\n",
              "      <th>BM15156</th>\n",
              "      <th>target_label</th>\n",
              "      <th>demographics.age</th>\n",
              "      <th>status.comorbidity_index</th>\n",
              "      <th>status.months_since_diagnosis</th>\n",
              "      <th>status.days_since_diagnosis</th>\n",
              "      <th>status.exercise_frequency</th>\n",
              "    </tr>\n",
              "  </thead>\n",
              "  <tbody>\n",
              "    <tr>\n",
              "      <th>count</th>\n",
              "      <td>1734.000000</td>\n",
              "      <td>1734.000000</td>\n",
              "      <td>1734.000000</td>\n",
              "      <td>1734.000000</td>\n",
              "      <td>1734.000000</td>\n",
              "      <td>1734.000000</td>\n",
              "      <td>1734.000000</td>\n",
              "      <td>1734.000000</td>\n",
              "      <td>1734.000000</td>\n",
              "      <td>1734.000000</td>\n",
              "      <td>...</td>\n",
              "      <td>1734.0</td>\n",
              "      <td>1038.000000</td>\n",
              "      <td>1734.000000</td>\n",
              "      <td>1734.000000</td>\n",
              "      <td>1734.000000</td>\n",
              "      <td>1611.000000</td>\n",
              "      <td>353.000000</td>\n",
              "      <td>1611.000000</td>\n",
              "      <td>123.000000</td>\n",
              "      <td>330.000000</td>\n",
              "    </tr>\n",
              "    <tr>\n",
              "      <th>mean</th>\n",
              "      <td>0.783160</td>\n",
              "      <td>0.883506</td>\n",
              "      <td>0.725490</td>\n",
              "      <td>0.189158</td>\n",
              "      <td>0.434256</td>\n",
              "      <td>0.064014</td>\n",
              "      <td>0.538062</td>\n",
              "      <td>0.096309</td>\n",
              "      <td>0.931373</td>\n",
              "      <td>0.592272</td>\n",
              "      <td>...</td>\n",
              "      <td>1.0</td>\n",
              "      <td>0.982659</td>\n",
              "      <td>0.914648</td>\n",
              "      <td>0.969435</td>\n",
              "      <td>0.219723</td>\n",
              "      <td>59.790813</td>\n",
              "      <td>0.716714</td>\n",
              "      <td>6.800124</td>\n",
              "      <td>253.528455</td>\n",
              "      <td>0.275758</td>\n",
              "    </tr>\n",
              "    <tr>\n",
              "      <th>std</th>\n",
              "      <td>0.412211</td>\n",
              "      <td>0.320909</td>\n",
              "      <td>0.446396</td>\n",
              "      <td>0.391747</td>\n",
              "      <td>0.495802</td>\n",
              "      <td>0.244848</td>\n",
              "      <td>0.498693</td>\n",
              "      <td>0.295100</td>\n",
              "      <td>0.252892</td>\n",
              "      <td>0.491554</td>\n",
              "      <td>...</td>\n",
              "      <td>0.0</td>\n",
              "      <td>0.130602</td>\n",
              "      <td>0.279485</td>\n",
              "      <td>0.172186</td>\n",
              "      <td>0.414179</td>\n",
              "      <td>9.516331</td>\n",
              "      <td>0.786374</td>\n",
              "      <td>10.842854</td>\n",
              "      <td>388.136940</td>\n",
              "      <td>0.561982</td>\n",
              "    </tr>\n",
              "    <tr>\n",
              "      <th>min</th>\n",
              "      <td>0.000000</td>\n",
              "      <td>0.000000</td>\n",
              "      <td>0.000000</td>\n",
              "      <td>0.000000</td>\n",
              "      <td>0.000000</td>\n",
              "      <td>0.000000</td>\n",
              "      <td>0.000000</td>\n",
              "      <td>0.000000</td>\n",
              "      <td>0.000000</td>\n",
              "      <td>0.000000</td>\n",
              "      <td>...</td>\n",
              "      <td>1.0</td>\n",
              "      <td>0.000000</td>\n",
              "      <td>0.000000</td>\n",
              "      <td>0.000000</td>\n",
              "      <td>0.000000</td>\n",
              "      <td>25.000000</td>\n",
              "      <td>0.000000</td>\n",
              "      <td>0.000000</td>\n",
              "      <td>0.000000</td>\n",
              "      <td>0.000000</td>\n",
              "    </tr>\n",
              "    <tr>\n",
              "      <th>25%</th>\n",
              "      <td>1.000000</td>\n",
              "      <td>1.000000</td>\n",
              "      <td>0.000000</td>\n",
              "      <td>0.000000</td>\n",
              "      <td>0.000000</td>\n",
              "      <td>0.000000</td>\n",
              "      <td>0.000000</td>\n",
              "      <td>0.000000</td>\n",
              "      <td>1.000000</td>\n",
              "      <td>0.000000</td>\n",
              "      <td>...</td>\n",
              "      <td>1.0</td>\n",
              "      <td>1.000000</td>\n",
              "      <td>1.000000</td>\n",
              "      <td>1.000000</td>\n",
              "      <td>0.000000</td>\n",
              "      <td>54.000000</td>\n",
              "      <td>0.000000</td>\n",
              "      <td>0.000000</td>\n",
              "      <td>0.000000</td>\n",
              "      <td>0.000000</td>\n",
              "    </tr>\n",
              "    <tr>\n",
              "      <th>50%</th>\n",
              "      <td>1.000000</td>\n",
              "      <td>1.000000</td>\n",
              "      <td>1.000000</td>\n",
              "      <td>0.000000</td>\n",
              "      <td>0.000000</td>\n",
              "      <td>0.000000</td>\n",
              "      <td>1.000000</td>\n",
              "      <td>0.000000</td>\n",
              "      <td>1.000000</td>\n",
              "      <td>1.000000</td>\n",
              "      <td>...</td>\n",
              "      <td>1.0</td>\n",
              "      <td>1.000000</td>\n",
              "      <td>1.000000</td>\n",
              "      <td>1.000000</td>\n",
              "      <td>0.000000</td>\n",
              "      <td>61.000000</td>\n",
              "      <td>1.000000</td>\n",
              "      <td>2.000000</td>\n",
              "      <td>108.000000</td>\n",
              "      <td>0.000000</td>\n",
              "    </tr>\n",
              "    <tr>\n",
              "      <th>75%</th>\n",
              "      <td>1.000000</td>\n",
              "      <td>1.000000</td>\n",
              "      <td>1.000000</td>\n",
              "      <td>0.000000</td>\n",
              "      <td>1.000000</td>\n",
              "      <td>0.000000</td>\n",
              "      <td>1.000000</td>\n",
              "      <td>0.000000</td>\n",
              "      <td>1.000000</td>\n",
              "      <td>1.000000</td>\n",
              "      <td>...</td>\n",
              "      <td>1.0</td>\n",
              "      <td>1.000000</td>\n",
              "      <td>1.000000</td>\n",
              "      <td>1.000000</td>\n",
              "      <td>0.000000</td>\n",
              "      <td>67.000000</td>\n",
              "      <td>1.000000</td>\n",
              "      <td>10.000000</td>\n",
              "      <td>383.000000</td>\n",
              "      <td>0.000000</td>\n",
              "    </tr>\n",
              "    <tr>\n",
              "      <th>max</th>\n",
              "      <td>1.000000</td>\n",
              "      <td>1.000000</td>\n",
              "      <td>1.000000</td>\n",
              "      <td>1.000000</td>\n",
              "      <td>1.000000</td>\n",
              "      <td>1.000000</td>\n",
              "      <td>1.000000</td>\n",
              "      <td>1.000000</td>\n",
              "      <td>1.000000</td>\n",
              "      <td>1.000000</td>\n",
              "      <td>...</td>\n",
              "      <td>1.0</td>\n",
              "      <td>1.000000</td>\n",
              "      <td>1.000000</td>\n",
              "      <td>1.000000</td>\n",
              "      <td>1.000000</td>\n",
              "      <td>83.000000</td>\n",
              "      <td>2.000000</td>\n",
              "      <td>93.000000</td>\n",
              "      <td>3084.000000</td>\n",
              "      <td>2.000000</td>\n",
              "    </tr>\n",
              "  </tbody>\n",
              "</table>\n",
              "<p>8 rows × 15163 columns</p>\n",
              "</div>\n",
              "      <button class=\"colab-df-convert\" onclick=\"convertToInteractive('df-840e8ecb-2c4c-42d3-8df9-060247686bad')\"\n",
              "              title=\"Convert this dataframe to an interactive table.\"\n",
              "              style=\"display:none;\">\n",
              "        \n",
              "  <svg xmlns=\"http://www.w3.org/2000/svg\" height=\"24px\"viewBox=\"0 0 24 24\"\n",
              "       width=\"24px\">\n",
              "    <path d=\"M0 0h24v24H0V0z\" fill=\"none\"/>\n",
              "    <path d=\"M18.56 5.44l.94 2.06.94-2.06 2.06-.94-2.06-.94-.94-2.06-.94 2.06-2.06.94zm-11 1L8.5 8.5l.94-2.06 2.06-.94-2.06-.94L8.5 2.5l-.94 2.06-2.06.94zm10 10l.94 2.06.94-2.06 2.06-.94-2.06-.94-.94-2.06-.94 2.06-2.06.94z\"/><path d=\"M17.41 7.96l-1.37-1.37c-.4-.4-.92-.59-1.43-.59-.52 0-1.04.2-1.43.59L10.3 9.45l-7.72 7.72c-.78.78-.78 2.05 0 2.83L4 21.41c.39.39.9.59 1.41.59.51 0 1.02-.2 1.41-.59l7.78-7.78 2.81-2.81c.8-.78.8-2.07 0-2.86zM5.41 20L4 18.59l7.72-7.72 1.47 1.35L5.41 20z\"/>\n",
              "  </svg>\n",
              "      </button>\n",
              "      \n",
              "  <style>\n",
              "    .colab-df-container {\n",
              "      display:flex;\n",
              "      flex-wrap:wrap;\n",
              "      gap: 12px;\n",
              "    }\n",
              "\n",
              "    .colab-df-convert {\n",
              "      background-color: #E8F0FE;\n",
              "      border: none;\n",
              "      border-radius: 50%;\n",
              "      cursor: pointer;\n",
              "      display: none;\n",
              "      fill: #1967D2;\n",
              "      height: 32px;\n",
              "      padding: 0 0 0 0;\n",
              "      width: 32px;\n",
              "    }\n",
              "\n",
              "    .colab-df-convert:hover {\n",
              "      background-color: #E2EBFA;\n",
              "      box-shadow: 0px 1px 2px rgba(60, 64, 67, 0.3), 0px 1px 3px 1px rgba(60, 64, 67, 0.15);\n",
              "      fill: #174EA6;\n",
              "    }\n",
              "\n",
              "    [theme=dark] .colab-df-convert {\n",
              "      background-color: #3B4455;\n",
              "      fill: #D2E3FC;\n",
              "    }\n",
              "\n",
              "    [theme=dark] .colab-df-convert:hover {\n",
              "      background-color: #434B5C;\n",
              "      box-shadow: 0px 1px 3px 1px rgba(0, 0, 0, 0.15);\n",
              "      filter: drop-shadow(0px 1px 2px rgba(0, 0, 0, 0.3));\n",
              "      fill: #FFFFFF;\n",
              "    }\n",
              "  </style>\n",
              "\n",
              "      <script>\n",
              "        const buttonEl =\n",
              "          document.querySelector('#df-840e8ecb-2c4c-42d3-8df9-060247686bad button.colab-df-convert');\n",
              "        buttonEl.style.display =\n",
              "          google.colab.kernel.accessAllowed ? 'block' : 'none';\n",
              "\n",
              "        async function convertToInteractive(key) {\n",
              "          const element = document.querySelector('#df-840e8ecb-2c4c-42d3-8df9-060247686bad');\n",
              "          const dataTable =\n",
              "            await google.colab.kernel.invokeFunction('convertToInteractive',\n",
              "                                                     [key], {});\n",
              "          if (!dataTable) return;\n",
              "\n",
              "          const docLinkHtml = 'Like what you see? Visit the ' +\n",
              "            '<a target=\"_blank\" href=https://colab.research.google.com/notebooks/data_table.ipynb>data table notebook</a>'\n",
              "            + ' to learn more about interactive tables.';\n",
              "          element.innerHTML = '';\n",
              "          dataTable['output_type'] = 'display_data';\n",
              "          await google.colab.output.renderOutput(dataTable, element);\n",
              "          const docLink = document.createElement('div');\n",
              "          docLink.innerHTML = docLinkHtml;\n",
              "          element.appendChild(docLink);\n",
              "        }\n",
              "      </script>\n",
              "    </div>\n",
              "  </div>\n",
              "  "
            ]
          },
          "metadata": {},
          "execution_count": 382
        }
      ]
    },
    {
      "cell_type": "markdown",
      "source": [
        "Now, I will look for all the columns with null values and create a datagrame of all the columns which have null values and the number of null values for each of them respectively"
      ],
      "metadata": {
        "id": "70QX9gjUbSgp"
      }
    },
    {
      "cell_type": "code",
      "source": [
        "check_null_columns = final_data.isnull().sum()\n",
        "check_null_columns = check_null_columns.reset_index()\n",
        "\n",
        "check_null_columns = check_null_columns[check_null_columns[0] > 0 ]\n",
        "check_null_columns.head(5)"
      ],
      "metadata": {
        "colab": {
          "base_uri": "https://localhost:8080/",
          "height": 206
        },
        "id": "to1b_zR-s-Zc",
        "outputId": "26700275-55b1-459f-8b0b-3ebe53e8f404"
      },
      "execution_count": 383,
      "outputs": [
        {
          "output_type": "execute_result",
          "data": {
            "text/plain": [
              "        index    0\n",
              "1070  BM01069  696\n",
              "1255  BM01254  696\n",
              "1672  BM01671  696\n",
              "2182  BM02181  696\n",
              "2499  BM02498  696"
            ],
            "text/html": [
              "\n",
              "  <div id=\"df-1b0e8d72-a302-4b82-b77e-a3e87948e4e5\">\n",
              "    <div class=\"colab-df-container\">\n",
              "      <div>\n",
              "<style scoped>\n",
              "    .dataframe tbody tr th:only-of-type {\n",
              "        vertical-align: middle;\n",
              "    }\n",
              "\n",
              "    .dataframe tbody tr th {\n",
              "        vertical-align: top;\n",
              "    }\n",
              "\n",
              "    .dataframe thead th {\n",
              "        text-align: right;\n",
              "    }\n",
              "</style>\n",
              "<table border=\"1\" class=\"dataframe\">\n",
              "  <thead>\n",
              "    <tr style=\"text-align: right;\">\n",
              "      <th></th>\n",
              "      <th>index</th>\n",
              "      <th>0</th>\n",
              "    </tr>\n",
              "  </thead>\n",
              "  <tbody>\n",
              "    <tr>\n",
              "      <th>1070</th>\n",
              "      <td>BM01069</td>\n",
              "      <td>696</td>\n",
              "    </tr>\n",
              "    <tr>\n",
              "      <th>1255</th>\n",
              "      <td>BM01254</td>\n",
              "      <td>696</td>\n",
              "    </tr>\n",
              "    <tr>\n",
              "      <th>1672</th>\n",
              "      <td>BM01671</td>\n",
              "      <td>696</td>\n",
              "    </tr>\n",
              "    <tr>\n",
              "      <th>2182</th>\n",
              "      <td>BM02181</td>\n",
              "      <td>696</td>\n",
              "    </tr>\n",
              "    <tr>\n",
              "      <th>2499</th>\n",
              "      <td>BM02498</td>\n",
              "      <td>696</td>\n",
              "    </tr>\n",
              "  </tbody>\n",
              "</table>\n",
              "</div>\n",
              "      <button class=\"colab-df-convert\" onclick=\"convertToInteractive('df-1b0e8d72-a302-4b82-b77e-a3e87948e4e5')\"\n",
              "              title=\"Convert this dataframe to an interactive table.\"\n",
              "              style=\"display:none;\">\n",
              "        \n",
              "  <svg xmlns=\"http://www.w3.org/2000/svg\" height=\"24px\"viewBox=\"0 0 24 24\"\n",
              "       width=\"24px\">\n",
              "    <path d=\"M0 0h24v24H0V0z\" fill=\"none\"/>\n",
              "    <path d=\"M18.56 5.44l.94 2.06.94-2.06 2.06-.94-2.06-.94-.94-2.06-.94 2.06-2.06.94zm-11 1L8.5 8.5l.94-2.06 2.06-.94-2.06-.94L8.5 2.5l-.94 2.06-2.06.94zm10 10l.94 2.06.94-2.06 2.06-.94-2.06-.94-.94-2.06-.94 2.06-2.06.94z\"/><path d=\"M17.41 7.96l-1.37-1.37c-.4-.4-.92-.59-1.43-.59-.52 0-1.04.2-1.43.59L10.3 9.45l-7.72 7.72c-.78.78-.78 2.05 0 2.83L4 21.41c.39.39.9.59 1.41.59.51 0 1.02-.2 1.41-.59l7.78-7.78 2.81-2.81c.8-.78.8-2.07 0-2.86zM5.41 20L4 18.59l7.72-7.72 1.47 1.35L5.41 20z\"/>\n",
              "  </svg>\n",
              "      </button>\n",
              "      \n",
              "  <style>\n",
              "    .colab-df-container {\n",
              "      display:flex;\n",
              "      flex-wrap:wrap;\n",
              "      gap: 12px;\n",
              "    }\n",
              "\n",
              "    .colab-df-convert {\n",
              "      background-color: #E8F0FE;\n",
              "      border: none;\n",
              "      border-radius: 50%;\n",
              "      cursor: pointer;\n",
              "      display: none;\n",
              "      fill: #1967D2;\n",
              "      height: 32px;\n",
              "      padding: 0 0 0 0;\n",
              "      width: 32px;\n",
              "    }\n",
              "\n",
              "    .colab-df-convert:hover {\n",
              "      background-color: #E2EBFA;\n",
              "      box-shadow: 0px 1px 2px rgba(60, 64, 67, 0.3), 0px 1px 3px 1px rgba(60, 64, 67, 0.15);\n",
              "      fill: #174EA6;\n",
              "    }\n",
              "\n",
              "    [theme=dark] .colab-df-convert {\n",
              "      background-color: #3B4455;\n",
              "      fill: #D2E3FC;\n",
              "    }\n",
              "\n",
              "    [theme=dark] .colab-df-convert:hover {\n",
              "      background-color: #434B5C;\n",
              "      box-shadow: 0px 1px 3px 1px rgba(0, 0, 0, 0.15);\n",
              "      filter: drop-shadow(0px 1px 2px rgba(0, 0, 0, 0.3));\n",
              "      fill: #FFFFFF;\n",
              "    }\n",
              "  </style>\n",
              "\n",
              "      <script>\n",
              "        const buttonEl =\n",
              "          document.querySelector('#df-1b0e8d72-a302-4b82-b77e-a3e87948e4e5 button.colab-df-convert');\n",
              "        buttonEl.style.display =\n",
              "          google.colab.kernel.accessAllowed ? 'block' : 'none';\n",
              "\n",
              "        async function convertToInteractive(key) {\n",
              "          const element = document.querySelector('#df-1b0e8d72-a302-4b82-b77e-a3e87948e4e5');\n",
              "          const dataTable =\n",
              "            await google.colab.kernel.invokeFunction('convertToInteractive',\n",
              "                                                     [key], {});\n",
              "          if (!dataTable) return;\n",
              "\n",
              "          const docLinkHtml = 'Like what you see? Visit the ' +\n",
              "            '<a target=\"_blank\" href=https://colab.research.google.com/notebooks/data_table.ipynb>data table notebook</a>'\n",
              "            + ' to learn more about interactive tables.';\n",
              "          element.innerHTML = '';\n",
              "          dataTable['output_type'] = 'display_data';\n",
              "          await google.colab.output.renderOutput(dataTable, element);\n",
              "          const docLink = document.createElement('div');\n",
              "          docLink.innerHTML = docLinkHtml;\n",
              "          element.appendChild(docLink);\n",
              "        }\n",
              "      </script>\n",
              "    </div>\n",
              "  </div>\n",
              "  "
            ]
          },
          "metadata": {},
          "execution_count": 383
        }
      ]
    },
    {
      "cell_type": "code",
      "source": [
        "drop_columns_list = list(check_null_columns[check_null_columns[0] >600]['index'])\n",
        "drop_columns_list[0:5]"
      ],
      "metadata": {
        "colab": {
          "base_uri": "https://localhost:8080/"
        },
        "id": "ZOWXnFgncDQ5",
        "outputId": "428db2c4-94e5-43c3-8dfb-2b1de290d4ba"
      },
      "execution_count": 399,
      "outputs": [
        {
          "output_type": "execute_result",
          "data": {
            "text/plain": [
              "['BM01069', 'BM01254', 'BM01671', 'BM02181', 'BM02498']"
            ]
          },
          "metadata": {},
          "execution_count": 399
        }
      ]
    },
    {
      "cell_type": "markdown",
      "source": [
        "#Feature engineering#"
      ],
      "metadata": {
        "id": "1ZrptHVWi-Ll"
      }
    },
    {
      "cell_type": "markdown",
      "source": [
        "Above is the list of all columns which we'll drop. I'm dropping all the biomarkers because I don't have any information or contextual knowledge about them. So, I can't impute any data. I'm dropping all the patient's data (all the above mentioned status) because out of 1734, more than 60% of them are null values. Thus, following the cardinality rule for dropping these. Also, dropping patient_id and biomarker_id as it doesn't add any information about target"
      ],
      "metadata": {
        "id": "8LT-DLLOeHQH"
      }
    },
    {
      "cell_type": "code",
      "source": [
        "final_data_filtered = final_data.drop(drop_columns_list, axis=1, inplace=False)\n",
        "final_data_filtered.drop(['biomarker_id', 'patient_id'], axis=1, inplace=True)"
      ],
      "metadata": {
        "id": "cTY5DNSqeucM"
      },
      "execution_count": 385,
      "outputs": []
    },
    {
      "cell_type": "markdown",
      "source": [
        "We see above that column = status.cohort_qualifier has only one value, True so if we convert it into dummy, it won't help and contribute any knowledge to the model. So, it is safe to drop this column"
      ],
      "metadata": {
        "id": "g--qYjL7srl3"
      }
    },
    {
      "cell_type": "code",
      "source": [
        "final_data_filtered.drop(['status.cohort_qualifier'], axis=1, inplace=True)"
      ],
      "metadata": {
        "id": "HWx-xPuXsny8"
      },
      "execution_count": 386,
      "outputs": []
    },
    {
      "cell_type": "code",
      "source": [
        "#Plotting the columns with null values to see if any pattern exist among the columns\n",
        "\n",
        "final_data_filtered_status = [col for col in final_data_filtered if col.startswith('status')]\n",
        "final_data_filtered_status.append('demographics.age', 'demographics.race')\n",
        "\n",
        "mi.matrix(final_data_filtered[final_data_filtered_status])"
      ],
      "metadata": {
        "colab": {
          "base_uri": "https://localhost:8080/",
          "height": 607
        },
        "id": "77ORqG68tDFW",
        "outputId": "d289d52f-dda2-433e-dbf8-5015f4dfdd98"
      },
      "execution_count": 391,
      "outputs": [
        {
          "output_type": "execute_result",
          "data": {
            "text/plain": [
              "<matplotlib.axes._subplots.AxesSubplot at 0x7f8e7fa513d0>"
            ]
          },
          "metadata": {},
          "execution_count": 391
        },
        {
          "output_type": "display_data",
          "data": {
            "text/plain": [
              "<Figure size 1800x720 with 2 Axes>"
            ],
            "image/png": "[encoded data removed]"
          },
          "metadata": {
            "needs_background": "light"
          }
        }
      ]
    },
    {
      "cell_type": "markdown",
      "source": [
        "Above is the graph for the four columns where we have null values in the data. We can see that all the patients which forgot to enter the information for one columns also don't enter it for the other columns. So, we can improve the data quality process by gathering the data using the patient ids. To deal with the above four columns with missing values, I'll first create a new column for each categorical column to represent if the values exist or not (missing =1, not missing =0). Then I'll create dummy variables for the column with categorical variables and drop the Nan column as base. So, I'm taking into the effect if the column has missing value or not and the effect of the classes of that column. For numerical columns, I'll use the column disease sub type and use the mean value for each section to fill the null values. I'm using this column on the assumption that people in the same disease subtype group will only have similar people in terms of age and when were they diagnosed. This is not the perfect way but given the information that I have, this is the assumption I'm taking. This can be further improved using more domain knowledge to impute the null values"
      ],
      "metadata": {
        "id": "cfrJTJbktOW6"
      }
    },
    {
      "cell_type": "markdown",
      "source": [
        "###Imputing the null values in numerical columns with null values###"
      ],
      "metadata": {
        "id": "pghD7uptkicm"
      }
    },
    {
      "cell_type": "code",
      "source": [
        "#Imputing data into quantitative variables: demographics.age and status.months_since_diagnosis_missing usng the mean of the disease subtype group as described in the above text\n",
        "group_mean = dict(final_data_filtered.groupby(['status.disease_sub_type'])['demographics.age'].mean())\n",
        "final_data_filtered[\"demographics.age\"] = list(group_mean[final_data_filtered.loc[i, 'status.disease_sub_type']] if pd.isna(final_data_filtered.loc[i, \"demographics.age\"]) else final_data_filtered.loc[i, \"demographics.age\"] for i in range(0, len(final_data_filtered.index)))\n",
        "\n",
        "group_mean_months = dict(final_data_filtered.groupby(['status.disease_sub_type'])['status.months_since_diagnosis'].mean())\n",
        "final_data_filtered[\"status.months_since_diagnosis\"] = list(group_mean[final_data_filtered.loc[i, 'status.disease_sub_type']] if pd.isna(final_data_filtered.loc[i, \"status.months_since_diagnosis\"]) else final_data_filtered.loc[i, \"demographics.age\"] for i in range(0, len(final_data_filtered.index)))\n",
        "\n"
      ],
      "metadata": {
        "id": "6s1KQVtBAllm"
      },
      "execution_count": 392,
      "outputs": []
    },
    {
      "cell_type": "markdown",
      "source": [
        "Imputing the null values in categorical columns with null values"
      ],
      "metadata": {
        "id": "UaqSg_Jgksk5"
      }
    },
    {
      "cell_type": "code",
      "source": [
        "#Creating new columns for categorical variables. 1 if the data is missing and 0 if present. This will give the effect of the data missing or not\n",
        "\n",
        "final_data_filtered['status.smoking_data_missing'] = [0 if isinstance(value, str) else 1 for value in final_data_filtered['status.smoking_status']]\n",
        "final_data_filtered['demographics.race_missing'] = [0 if isinstance(value, str) else 1 for value in final_data_filtered['demographics.race']]\n",
        "\n",
        "#Converting all the values to lower case because never and NEVER mean the same thing\n",
        "\n",
        "final_data_filtered['demographics.gender'] = final_data_filtered['demographics.gender'].str.lower()\n",
        "final_data_filtered['status.smoking_status'] = final_data_filtered['status.smoking_status'].str.lower()\n",
        "final_data_filtered['demographics.race'] = final_data_filtered['demographics.race'].str.lower()\n"
      ],
      "metadata": {
        "id": "XczIfmGffSXL"
      },
      "execution_count": 393,
      "outputs": []
    },
    {
      "cell_type": "markdown",
      "source": [
        "###Creating dummy variables for all the present categorical variables###"
      ],
      "metadata": {
        "id": "m5_5rP_RkwBc"
      }
    },
    {
      "cell_type": "code",
      "source": [
        "final_data_filtered =pd.get_dummies(final_data_filtered, columns= ['demographics.gender'], drop_first=True)\n",
        "final_data_filtered =pd.get_dummies(final_data_filtered, columns= ['status.disease_sub_type'], drop_first=True)\n",
        "final_data_filtered =pd.get_dummies(final_data_filtered, columns= ['status.smoking_status'])\n",
        "final_data_filtered =pd.get_dummies(final_data_filtered, columns= ['demographics.race'])\n",
        "\n",
        "final_data_filtered.head(5)"
      ],
      "metadata": {
        "id": "X3GIv-nj5-YO"
      },
      "execution_count": null,
      "outputs": []
    },
    {
      "cell_type": "markdown",
      "source": [
        "In the above code, we did not remove the null values but instead used it as the base in dummies and removed it. So, we have now the effect of a value of a column being null or not, and the value present if it's not null"
      ],
      "metadata": {
        "id": "-ARAT9ufm5cF"
      }
    },
    {
      "cell_type": "markdown",
      "source": [
        "Since, now we have our dataset ready and there are no null values left, the dataset is cleaned and transformed for modelling. I'll do the Lasso first since there are more than 15k columns and only 1734 rows. I'll do this to first do the feature selection and then use the selected features to perform logistic regression"
      ],
      "metadata": {
        "id": "5awf6tzfM3fG"
      }
    },
    {
      "cell_type": "code",
      "source": [
        "#Splitting the data into X and y with X being the dataset of all the independent variables and y being the dependent variable\n",
        "\n",
        "X, y= final_data_filtered.loc[:, final_data_filtered.columns != 'target_label'], final_data_filtered.loc[:, ['target_label']]"
      ],
      "metadata": {
        "id": "di8A89GD3PkS"
      },
      "execution_count": 414,
      "outputs": []
    },
    {
      "cell_type": "code",
      "source": [
        "#Scaling the data to get everything into same scale\n",
        "\n",
        "Min_Max = MinMaxScaler()\n",
        "X = Min_Max.fit_transform(X)\n",
        "y= Min_Max.fit_transform(y)\n",
        "\n",
        "# Split the data into 20% test and 80% training\n",
        "X_train, X_test, Y_train, Y_test = train_test_split(X, y, test_size=0.2, random_state=0)\n",
        "X_train.shape, X_test.shape"
      ],
      "metadata": {
        "colab": {
          "base_uri": "https://localhost:8080/"
        },
        "id": "R_S8VNgaSzM3",
        "outputId": "31680fc5-f3ed-4144-c5d3-ef2efba2f883"
      },
      "execution_count": 415,
      "outputs": [
        {
          "output_type": "execute_result",
          "data": {
            "text/plain": [
              "((1387, 15130), (347, 15130))"
            ]
          },
          "metadata": {},
          "execution_count": 415
        }
      ]
    },
    {
      "cell_type": "code",
      "source": [
        "#Selecting features using Lasso regularisation using SelectFromModel function from scikit learn\n",
        "\n",
        "sel_ = SelectFromModel(LogisticRegression(C=1, penalty='l1', solver='liblinear'))\n",
        "sel_.fit(X_train, np.ravel(Y_train,order='C'))\n",
        "sel_.get_support()\n",
        "X_train = pd.DataFrame(X_train)"
      ],
      "metadata": {
        "id": "2KNOWleIRCes"
      },
      "execution_count": 419,
      "outputs": []
    },
    {
      "cell_type": "code",
      "source": [
        "#Here we are selecting the selected number of features from Lasso\n",
        "\n",
        "selected_feat = X_train.columns[(sel_.get_support())]\n",
        "print('total features: {}'.format((X_train.shape[1])))\n",
        "print('selected features: {}'.format(len(selected_feat)))\n",
        "print('features with coefficients shrank to zero: {}'.format(\n",
        "np.sum(sel_.estimator_.coef_ == 0)))"
      ],
      "metadata": {
        "colab": {
          "base_uri": "https://localhost:8080/"
        },
        "id": "uUeqbXrvVY5G",
        "outputId": "d281c9ad-79ff-46de-b224-a31101a2dc5b"
      },
      "execution_count": 420,
      "outputs": [
        {
          "output_type": "stream",
          "name": "stdout",
          "text": [
            "total features: 15130\n",
            "selected features: 692\n",
            "features with coefficients shrank to zero: 14438\n"
          ]
        }
      ]
    },
    {
      "cell_type": "markdown",
      "source": [
        "In the above output, we can see that 14438 feature's coefficients shrunk to zero and only 692 remained in the model. So, we'll only use these in our model now"
      ],
      "metadata": {
        "id": "u2D82mQmdh79"
      }
    },
    {
      "cell_type": "code",
      "source": [
        "removed_feats = X_train.columns[(sel_.estimator_.coef_ == 0).ravel().tolist()]\n",
        "len(removed_feats) #Removed 14438 features from the data\n",
        "\n",
        "#Creating a new X dataframe to only select the above selected variables\n",
        "X_train_selected = sel_.transform(X_train)\n",
        "X_test_selected = sel_.transform(X_test)\n",
        "X_train_selected.shape, X_test_selected.shape, Y_train.shape, Y_test.shape"
      ],
      "metadata": {
        "colab": {
          "base_uri": "https://localhost:8080/"
        },
        "id": "XAWkXV0ERK5B",
        "outputId": "06a8ad78-51ec-43ea-ff86-76e14f1daa18"
      },
      "execution_count": 431,
      "outputs": [
        {
          "output_type": "execute_result",
          "data": {
            "text/plain": [
              "((1387, 692), (347, 692), (1387, 1), (347, 1))"
            ]
          },
          "metadata": {},
          "execution_count": 431
        }
      ]
    },
    {
      "cell_type": "code",
      "source": [
        "logreg = LogisticRegression()\n",
        "logreg.fit(X_train_selected, Y_train)\n",
        "\n",
        "Y_pred = logreg.predict(X_test_selected)\n",
        "print('Accuracy of logistic regression classifier on test set: {:.2f}'.format(logreg.score(X_test_selected, Y_test)))"
      ],
      "metadata": {
        "colab": {
          "base_uri": "https://localhost:8080/"
        },
        "id": "35mKisDBV5QD",
        "outputId": "f09af0ab-5579-4156-b8e3-6f2f0c4013db"
      },
      "execution_count": 433,
      "outputs": [
        {
          "output_type": "stream",
          "name": "stdout",
          "text": [
            "Accuracy of logistic regression classifier on test set: 0.78\n"
          ]
        }
      ]
    },
    {
      "cell_type": "markdown",
      "source": [
        "###Confusion matrix###"
      ],
      "metadata": {
        "id": "luxSfwZ-sfsy"
      }
    },
    {
      "cell_type": "code",
      "source": [
        "#confusion_matrix = confusion_matrix(Y_test, Y_pred)\n",
        "#print(confusion_matrix)\n",
        "plot_confusion_matrix(logreg, X_test_selected, Y_test)  \n",
        "plt.show()"
      ],
      "metadata": {
        "colab": {
          "base_uri": "https://localhost:8080/",
          "height": 334
        },
        "id": "VYmCvpVJXwBV",
        "outputId": "facae709-0733-405d-d7d7-5593dcc3e0a6"
      },
      "execution_count": 445,
      "outputs": [
        {
          "output_type": "stream",
          "name": "stderr",
          "text": [
            "/usr/local/lib/python3.7/dist-packages/sklearn/utils/deprecation.py:87: FutureWarning: Function plot_confusion_matrix is deprecated; Function `plot_confusion_matrix` is deprecated in 1.0 and will be removed in 1.2. Use one of the class methods: ConfusionMatrixDisplay.from_predictions or ConfusionMatrixDisplay.from_estimator.\n",
            "  warnings.warn(msg, category=FutureWarning)\n"
          ]
        },
        {
          "output_type": "display_data",
          "data": {
            "text/plain": [
              "<Figure size 432x288 with 2 Axes>"
            ],
            "image/png": "[encoded data removed]"
          },
          "metadata": {
            "needs_background": "light"
          }
        }
      ]
    },
    {
      "cell_type": "markdown",
      "source": [
        "Assumption: target label= 1 disease is there, 0 means no disease\n",
        "In the above matrix, we can see that true positives = 247, true negatives = 22 means that our model was able to detect if the patient had the disease when they had the disease and not predict the disease when the patient didn't have it. So, correct predictions. False negative = 63, meaning that the patient didn't have it but it predicted it. **False positive**=15 The model thought the patient had the disease, but they actually didn’t have it. False positive is the most important here because this is where our model couldn't predict the disease when the patient actually had the disease. As per our model, there were 15 patients where it could not detect it."
      ],
      "metadata": {
        "id": "fdi0uOCSej_1"
      }
    },
    {
      "cell_type": "markdown",
      "source": [
        "###ROC-AUC Curve###"
      ],
      "metadata": {
        "id": "qtvdYR3aYJe9"
      }
    },
    {
      "cell_type": "code",
      "source": [
        "logit_roc_auc = roc_auc_score(Y_test, logreg.predict(X_test_selected))\n",
        "fpr, tpr, thresholds = roc_curve(Y_test, logreg.predict_proba(X_test_selected)[:,1])\n",
        "plt.figure()\n",
        "plt.plot(fpr, tpr, label='Logistic Regression (area = %0.2f)' % logit_roc_auc)\n",
        "plt.plot([0, 1], [0, 1],'r--')\n",
        "plt.xlim([0.0, 1.0])\n",
        "plt.ylim([0.0, 1.05])\n",
        "plt.xlabel('False Positive Rate')\n",
        "plt.ylabel('True Positive Rate')\n",
        "plt.title('Receiver operating characteristic')\n",
        "plt.legend(loc=\"lower right\")\n",
        "plt.savefig('Log_ROC')\n",
        "plt.show()"
      ],
      "metadata": {
        "colab": {
          "base_uri": "https://localhost:8080/",
          "height": 295
        },
        "id": "XsUKC4SMYIeT",
        "outputId": "1e77e3f5-0853-4882-bec4-caf019485985"
      },
      "execution_count": 453,
      "outputs": [
        {
          "output_type": "display_data",
          "data": {
            "text/plain": [
              "<Figure size 432x288 with 1 Axes>"
            ],
            "image/png": "[encoded data removed]"
          },
          "metadata": {
            "needs_background": "light"
          }
        }
      ]
    },
    {
      "cell_type": "markdown",
      "source": [
        "The blue ROC curve is showing the trade-off between our testing data’s true positive rate and false positive rate. The dotted red line cutting through the center of the graph is to provide a sense of what the worst possible model would look like as an ROC curve. \n",
        "AUC is the area lies under the ROC curve. The closer this is to 1, the better our classification model is. The AUC of the red dotted line is 0.5. The AUC of a perfect model would be 1. Our line with an AUC of 0.60 which seems to be doing fairly well"
      ],
      "metadata": {
        "id": "uQT_hC5_Zl8h"
      }
    }
  ]
}